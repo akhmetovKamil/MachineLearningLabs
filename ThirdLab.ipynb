{
 "cells": [
  {
   "cell_type": "markdown",
   "source": [
    "# Third Lab"
   ],
   "metadata": {
    "collapsed": false
   },
   "id": "22749cfa902f36b6"
  },
  {
   "cell_type": "markdown",
   "source": [
    "### importing required libs"
   ],
   "metadata": {
    "collapsed": false
   },
   "id": "ca9079102742d9e2"
  },
  {
   "cell_type": "code",
   "execution_count": 4,
   "id": "initial_id",
   "metadata": {
    "collapsed": true,
    "ExecuteTime": {
     "end_time": "2024-03-21T07:26:20.498809Z",
     "start_time": "2024-03-21T07:26:20.270750Z"
    }
   },
   "outputs": [],
   "source": [
    "from collections import Counter\n",
    "from ultralytics import YOLO\n",
    "import cv2 as cv\n",
    "import os"
   ]
  },
  {
   "cell_type": "markdown",
   "source": [
    "### Downloading and preparing model"
   ],
   "metadata": {
    "collapsed": false
   },
   "id": "c8a263eafd20c427"
  },
  {
   "cell_type": "code",
   "outputs": [
    {
     "name": "stdout",
     "output_type": "stream",
     "text": [
      "YOLOv8s summary (fused): 168 layers, 11156544 parameters, 0 gradients, 28.6 GFLOPs\n"
     ]
    }
   ],
   "source": [
    "model = YOLO(\"Dataset/yolov8s.pt\")\n",
    "model.fuse()"
   ],
   "metadata": {
    "collapsed": false,
    "ExecuteTime": {
     "end_time": "2024-03-21T07:26:23.836491Z",
     "start_time": "2024-03-21T07:26:20.510784Z"
    }
   },
   "id": "5c82be550bb1980d",
   "execution_count": 5
  },
  {
   "cell_type": "markdown",
   "source": [
    "### Tracking objects from a web camera and video files"
   ],
   "metadata": {
    "collapsed": false
   },
   "id": "dd0bff1560486fcd"
  },
  {
   "cell_type": "code",
   "outputs": [],
   "source": [
    "path = 'Dataset/video.mp4'\n",
    "# cap = cv.VideoCapture(path) # Tracking video file\n",
    "cap = cv.VideoCapture(0)\n",
    "\n",
    "while True:\n",
    "    success, frame = cap.read() \n",
    "    results = model.track(frame, persist=True)\n",
    "    annotated_frame = results[0].plot()\n",
    "    cv.imshow('frame', annotated_frame)\n",
    "    if cv.waitKey(1) & 0xFF == ord('q'):\n",
    "        break\n",
    "cap.release()\n",
    "cv.destroyAllWindows()\n",
    "cv.waitKey(1)"
   ],
   "metadata": {
    "collapsed": false,
    "ExecuteTime": {
     "end_time": "2024-03-21T07:26:23.847835Z",
     "start_time": "2024-03-21T07:26:23.835934Z"
    }
   },
   "id": "467517fe9ba8e3f9",
   "execution_count": 6
  },
  {
   "cell_type": "markdown",
   "source": [
    "### Calculating the model predictions accuracy"
   ],
   "metadata": {
    "collapsed": false
   },
   "id": "4b1b23ebd751461b"
  },
  {
   "cell_type": "code",
   "outputs": [
    {
     "name": "stdout",
     "output_type": "stream",
     "text": [
      "image 1/7 /Users/shayrmovich/Documents/projects/MachineLearningLabs/Dataset/images/0_15_15_15.png: 384x640 2 cats, 748.0ms\n",
      "image 2/7 /Users/shayrmovich/Documents/projects/MachineLearningLabs/Dataset/images/1_15_15_0.jpg: 640x544 1 person, 1 cat, 1 teddy bear, 1475.6ms\n",
      "image 3/7 /Users/shayrmovich/Documents/projects/MachineLearningLabs/Dataset/images/2_15_15_15_15.jpg: 448x640 3 cats, 775.4ms\n",
      "image 4/7 /Users/shayrmovich/Documents/projects/MachineLearningLabs/Dataset/images/3_15_15.jpg: 480x640 2 cats, 916.0ms\n",
      "image 5/7 /Users/shayrmovich/Documents/projects/MachineLearningLabs/Dataset/images/4_57_59_16.jpg: 640x640 1 dog, 1 couch, 1 bed, 956.4ms\n",
      "image 6/7 /Users/shayrmovich/Documents/projects/MachineLearningLabs/Dataset/images/5_15_15_15.jpg: 512x640 3 cats, 882.8ms\n",
      "image 7/7 /Users/shayrmovich/Documents/projects/MachineLearningLabs/Dataset/images/6_15_16.jpg: 576x640 1 cat, 1 dog, 1061.7ms\n",
      "Speed: 11.8ms preprocess, 973.7ms inference, 2.5ms postprocess per image at shape (1, 3, 576, 640)\n",
      "{0: 'person', 1: 'bicycle', 2: 'car', 3: 'motorcycle', 4: 'airplane', 5: 'bus', 6: 'train', 7: 'truck', 8: 'boat', 9: 'traffic light', 10: 'fire hydrant', 11: 'stop sign', 12: 'parking meter', 13: 'bench', 14: 'bird', 15: 'cat', 16: 'dog', 17: 'horse', 18: 'sheep', 19: 'cow', 20: 'elephant', 21: 'bear', 22: 'zebra', 23: 'giraffe', 24: 'backpack', 25: 'umbrella', 26: 'handbag', 27: 'tie', 28: 'suitcase', 29: 'frisbee', 30: 'skis', 31: 'snowboard', 32: 'sports ball', 33: 'kite', 34: 'baseball bat', 35: 'baseball glove', 36: 'skateboard', 37: 'surfboard', 38: 'tennis racket', 39: 'bottle', 40: 'wine glass', 41: 'cup', 42: 'fork', 43: 'knife', 44: 'spoon', 45: 'bowl', 46: 'banana', 47: 'apple', 48: 'sandwich', 49: 'orange', 50: 'broccoli', 51: 'carrot', 52: 'hot dog', 53: 'pizza', 54: 'donut', 55: 'cake', 56: 'chair', 57: 'couch', 58: 'potted plant', 59: 'bed', 60: 'dining table', 61: 'toilet', 62: 'tv', 63: 'laptop', 64: 'mouse', 65: 'remote', 66: 'keyboard', 67: 'cell phone', 68: 'microwave', 69: 'oven', 70: 'toaster', 71: 'sink', 72: 'refrigerator', 73: 'book', 74: 'clock', 75: 'vase', 76: 'scissors', 77: 'teddy bear', 78: 'hair drier', 79: 'toothbrush'}\n",
      "0_15_15_15.png image prediction accuracy is 66%\n",
      "1_15_15_0.jpg image prediction accuracy is 66%\n",
      "2_15_15_15_15.jpg image prediction accuracy is 75%\n",
      "3_15_15.jpg image prediction accuracy is 100%\n",
      "4_57_59_16.jpg image prediction accuracy is 100%\n",
      "5_15_15_15.jpg image prediction accuracy is 100%\n",
      "6_15_16.jpg image prediction accuracy is 100%\n"
     ]
    }
   ],
   "source": [
    "results = model('Dataset/images/')\n",
    "print(model.names)\n",
    "for result in results:\n",
    "    prediction = result.boxes.cls.numpy()\n",
    "    real = os.path.basename(result.path).split('_')[1:]\n",
    "    real[-1] = real[-1].split('.')[0]\n",
    "    real = list(map(int, real))\n",
    "    intersection = Counter(real) & Counter(prediction)\n",
    "    accuracy = int((sum(intersection.values())/len(real) * 100))\n",
    "    print(f'{os.path.basename(result.path)} image prediction accuracy is {accuracy}%')"
   ],
   "metadata": {
    "collapsed": false,
    "ExecuteTime": {
     "end_time": "2024-03-21T07:26:33.412739Z",
     "start_time": "2024-03-21T07:26:23.859028Z"
    }
   },
   "id": "5fc3b8cc05631d98",
   "execution_count": 7
  },
  {
   "cell_type": "code",
   "outputs": [],
   "source": [],
   "metadata": {
    "collapsed": false,
    "ExecuteTime": {
     "end_time": "2024-03-21T07:26:33.454802Z",
     "start_time": "2024-03-21T07:26:33.391669Z"
    }
   },
   "id": "c28a3ee024d203d4",
   "execution_count": 7
  }
 ],
 "metadata": {
  "kernelspec": {
   "display_name": "Python 3",
   "language": "python",
   "name": "python3"
  },
  "language_info": {
   "codemirror_mode": {
    "name": "ipython",
    "version": 2
   },
   "file_extension": ".py",
   "mimetype": "text/x-python",
   "name": "python",
   "nbconvert_exporter": "python",
   "pygments_lexer": "ipython2",
   "version": "2.7.6"
  }
 },
 "nbformat": 4,
 "nbformat_minor": 5
}
