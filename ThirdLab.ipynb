{
 "cells": [
  {
   "cell_type": "markdown",
   "source": [
    "# Third Lab"
   ],
   "metadata": {
    "collapsed": false
   },
   "id": "22749cfa902f36b6"
  },
  {
   "cell_type": "markdown",
   "source": [
    "### importing required libs"
   ],
   "metadata": {
    "collapsed": false
   },
   "id": "ca9079102742d9e2"
  },
  {
   "cell_type": "code",
   "execution_count": 2,
   "id": "initial_id",
   "metadata": {
    "collapsed": true,
    "ExecuteTime": {
     "end_time": "2024-02-25T07:48:36.895506Z",
     "start_time": "2024-02-25T07:48:23.065096Z"
    }
   },
   "outputs": [],
   "source": [
    "from ultralytics import YOLO\n",
    "import cv2 as cv"
   ]
  },
  {
   "cell_type": "markdown",
   "source": [
    "### Downloading and preparing model"
   ],
   "metadata": {
    "collapsed": false
   },
   "id": "c8a263eafd20c427"
  },
  {
   "cell_type": "code",
   "outputs": [
    {
     "name": "stdout",
     "output_type": "stream",
     "text": [
      "YOLOv8s summary (fused): 168 layers, 11156544 parameters, 0 gradients, 28.6 GFLOPs\n"
     ]
    }
   ],
   "source": [
    "model = YOLO(\"Dataset/yolov8s.pt\")\n",
    "model.fuse()"
   ],
   "metadata": {
    "collapsed": false,
    "ExecuteTime": {
     "end_time": "2024-02-25T07:48:44.084980Z",
     "start_time": "2024-02-25T07:48:41.084177Z"
    }
   },
   "id": "5c82be550bb1980d",
   "execution_count": 3
  },
  {
   "cell_type": "markdown",
   "source": [
    "### t"
   ],
   "metadata": {
    "collapsed": false
   },
   "id": "580ea59075ffe4ab"
  },
  {
   "cell_type": "code",
   "outputs": [
    {
     "name": "stdout",
     "output_type": "stream",
     "text": [
      "image 1/1 /Users/shayrmovich/Documents/projects/MachineLearningLabs/Dataset/9.jpg: 512x640 3 cats, 1795.9ms\n",
      "Speed: 24.3ms preprocess, 1795.9ms inference, 10.8ms postprocess per image at shape (1, 3, 512, 640)\n"
     ]
    }
   ],
   "source": [
    "\n",
    "result2 = model.predict(\"Dataset/9.jpg\")"
   ],
   "metadata": {
    "collapsed": false,
    "ExecuteTime": {
     "end_time": "2024-02-25T08:21:40.174205Z",
     "start_time": "2024-02-25T08:21:38.252896Z"
    }
   },
   "id": "650dc96cf95ae21e",
   "execution_count": 9
  },
  {
   "cell_type": "markdown",
   "source": [
    "### Tracking objects from a web camera and video files"
   ],
   "metadata": {
    "collapsed": false
   },
   "id": "dd0bff1560486fcd"
  },
  {
   "cell_type": "code",
   "outputs": [],
   "source": [
    "path = 'Dataset/1.mp4'\n",
    "# cap = cv.VideoCapture(path) # Tracking video file\n",
    "cap = cv.VideoCapture(0)\n",
    "\n",
    "while True:\n",
    "    success, frame = cap.read() \n",
    "    results = model.track(frame, persist=True)\n",
    "    annotated_frame = results[0].plot()\n",
    "    cv.imshow('frame', annotated_frame)\n",
    "    if cv.waitKey(1) & 0xFF == ord('q'):\n",
    "        break\n",
    "cap.release()\n",
    "cv.destroyAllWindows()\n",
    "cv.waitKey(1)"
   ],
   "metadata": {
    "collapsed": false,
    "ExecuteTime": {
     "end_time": "2024-02-24T23:29:43.365992Z",
     "start_time": "2024-02-24T23:29:43.325578Z"
    }
   },
   "id": "467517fe9ba8e3f9",
   "execution_count": 3
  }
 ],
 "metadata": {
  "kernelspec": {
   "display_name": "Python 3",
   "language": "python",
   "name": "python3"
  },
  "language_info": {
   "codemirror_mode": {
    "name": "ipython",
    "version": 2
   },
   "file_extension": ".py",
   "mimetype": "text/x-python",
   "name": "python",
   "nbconvert_exporter": "python",
   "pygments_lexer": "ipython2",
   "version": "2.7.6"
  }
 },
 "nbformat": 4,
 "nbformat_minor": 5
}
