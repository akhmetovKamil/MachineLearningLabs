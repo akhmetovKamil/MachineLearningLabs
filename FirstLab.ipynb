{
 "cells": [
  {
   "cell_type": "markdown",
   "source": [
    "# First Lab"
   ],
   "metadata": {
    "collapsed": false
   },
   "id": "e5cb6201578f1b57"
  },
  {
   "cell_type": "code",
   "execution_count": null,
   "id": "initial_id",
   "metadata": {
    "collapsed": true
   },
   "outputs": [],
   "source": [
    "import os\n",
    "import cv2 as cv\n",
    "import numpy as np\n",
    "import torch\n",
    "import torch.nn as nn\n",
    "import torch.nn.functional as F\n",
    "import torchvision as tv\n",
    "import matplotlib.pyplot as plt\n",
    "from tqdm.notebook import tqdm"
   ]
  },
  {
   "cell_type": "markdown",
   "source": [
    "### Creating Dataset Class to Model"
   ],
   "metadata": {
    "collapsed": false
   },
   "id": "7611bbd44a8a35b"
  },
  {
   "cell_type": "code",
   "outputs": [],
   "source": [
    "class Dataset(torch.utils.data.Dataset):\n",
    "    def __init__(self, dogs_path: str, cats_path: str):\n",
    "        super().__init__()\n",
    "        self.dogs_path = dogs_path\n",
    "        self.cats_path = cats_path\n",
    "        self.dogs_list = sorted(os.listdir(dogs_path))\n",
    "        self.cats_list = sorted(os.listdir(cats_path))\n",
    "        self.dogs_len = len(self.dogs_list)\n",
    "        \n",
    "    def __len__(self):\n",
    "        return len(self.dogs_list) + len(self.cats_list)\n",
    "    \n",
    "    def getImageIndex(self, index) -> (str, int):\n",
    "        if index < self.dogs_len:\n",
    "            return os.path.join(self.dogs_path, self.dogs_list[index]), 0\n",
    "        return os.path.join(self.cats_path, self.cats_list[index - self.dogs_len]), 1\n",
    "    \n",
    "    def __getitem__(self, index):\n",
    "        id_class = None\n",
    "        img = None\n",
    "        sub_index = 0\n",
    "        while img == None:\n",
    "            path, id_class = self.getImageIndex(index + sub_index)\n",
    "            sub_index+=1\n",
    "            img = cv.imread(path, cv.IMREAD_COLOR)\n",
    "            \n",
    "            if img is not None:\n",
    "                break\n",
    "        img = cv.cvtColor(img, cv.COLOR_BGR2RGB)\n",
    "        img = img.astype(np.float32)\n",
    "        img = img/255.0\n",
    "        img = cv.resize(img, (128, 128), interpolation=cv.INTER_AREA)\n",
    "        img = img.transpose((2, 0, 1))\n",
    "        t_img = torch.from_numpy(img)\n",
    "        t_id = torch.tensor(id_class)\n",
    "        \n",
    "        return {'img': t_img, 'label': t_id}"
   ],
   "metadata": {
    "collapsed": false
   },
   "id": "b7d7e176d93fc296",
   "execution_count": null
  },
  {
   "cell_type": "code",
   "outputs": [],
   "source": [
    "dogs_path = './Dataset/PetImages/Dog'\n",
    "cats_path = './Dataset/PetImages/Cat'\n",
    "train_dataset = Dataset(dogs_path,cats_path)"
   ],
   "metadata": {
    "collapsed": false
   },
   "id": "e77fba5ccf7e2047",
   "execution_count": null
  },
  {
   "cell_type": "markdown",
   "source": [
    "### Creating DataLoaders"
   ],
   "metadata": {
    "collapsed": false
   },
   "id": "61a41457eb99c476"
  },
  {
   "cell_type": "code",
   "outputs": [],
   "source": [
    "train_loader = torch.utils.data.DataLoader(train_dataset, batch_size=64, shuffle=True,drop_last=True)"
   ],
   "metadata": {
    "collapsed": false
   },
   "id": "9831e02d3216c15e",
   "execution_count": null
  },
  {
   "cell_type": "code",
   "outputs": [],
   "source": [
    "model = tv.models.resnet34(num_classes=2)"
   ],
   "metadata": {
    "collapsed": false
   },
   "id": "86511b558f1e2032",
   "execution_count": null
  },
  {
   "cell_type": "code",
   "outputs": [],
   "source": [
    "def count_parameters(model):\n",
    "    return sum(p.numel() for p in model.parameters() if p.requires_grad)"
   ],
   "metadata": {
    "collapsed": false
   },
   "id": "ea8a95e7e8edbffc",
   "execution_count": null
  },
  {
   "cell_type": "code",
   "outputs": [],
   "source": [
    "# count_parameters(model)"
   ],
   "metadata": {
    "collapsed": false
   },
   "id": "52312b5b43d015a8",
   "execution_count": null
  },
  {
   "cell_type": "code",
   "outputs": [],
   "source": [
    "# i = 0\n",
    "# for sample in train_loader:\n",
    "#     i+=1\n",
    "#     img = sample['img']\n",
    "#     label = sample['label']\n",
    "#     print(\"i = \", i)\n",
    "#     if i > 5: break"
   ],
   "metadata": {
    "collapsed": false
   },
   "id": "d69617e73343d66b",
   "execution_count": null
  },
  {
   "cell_type": "markdown",
   "source": [
    "### Creating Loss function and Optimizer"
   ],
   "metadata": {
    "collapsed": false
   },
   "id": "78931433e02f719c"
  },
  {
   "cell_type": "code",
   "outputs": [],
   "source": [
    "loss_fn = nn.CrossEntropyLoss()\n",
    "optimizer = torch.optim.Adam(model.parameters(), lr=0.1, betas=(0.9, 0.999))"
   ],
   "metadata": {
    "collapsed": false
   },
   "id": "3ecc5d75dde83e69",
   "execution_count": null
  },
  {
   "cell_type": "code",
   "outputs": [],
   "source": [
    "def accuracy(pred, label):\n",
    "    answer = F.softmax(pred.detach(), dim=1).numpy().argmax(1) == label.numpy().argmax(1) \n",
    "    return answer.mean()"
   ],
   "metadata": {
    "collapsed": false
   },
   "id": "1e2c7c808b34454a",
   "execution_count": null
  },
  {
   "cell_type": "code",
   "outputs": [],
   "source": [
    "epochs = 10\n",
    "\n",
    "for epoch in range(epochs):\n",
    "    loss_val = 0\n",
    "    acc_val = 0\n",
    "    for sample in (pbar := tqdm(train_loader)):\n",
    "        img, label = sample['img'], sample['label']\n",
    "\n",
    "        optimizer.zero_grad()\n",
    "        label = F.one_hot(label, 2).float()\n",
    "\n",
    " \n",
    "        pred = model(img)\n",
    "        loss = loss_fn(pred, label)\n",
    "        loss.backward()\n",
    "        \n",
    "\n",
    "        loss_item = loss.item()\n",
    "        loss_val += loss_item\n",
    "\n",
    "        optimizer.step()\n",
    "\n",
    "        acc_current = accuracy(pred, label)\n",
    "        acc_val += acc_current\n",
    "\n",
    "        pbar.set_description(f'loss: {loss_item:.5f}\\taccuracy: {acc_current:.3f}')\n",
    "\n"
   ],
   "metadata": {
    "collapsed": false,
    "is_executing": true
   },
   "id": "4fcb73ce72c2e64f",
   "execution_count": null
  },
  {
   "cell_type": "code",
   "outputs": [],
   "source": [],
   "metadata": {
    "collapsed": false,
    "is_executing": true
   },
   "id": "417a924fa4057eb6"
  },
  {
   "cell_type": "code",
   "outputs": [],
   "source": [],
   "metadata": {
    "collapsed": false,
    "is_executing": true
   },
   "id": "6cd48ef6af245c0e"
  },
  {
   "cell_type": "code",
   "outputs": [],
   "source": [],
   "metadata": {
    "collapsed": false,
    "is_executing": true
   },
   "id": "638969a7bb0d768a"
  }
 ],
 "metadata": {
  "kernelspec": {
   "display_name": "Python 3",
   "language": "python",
   "name": "python3"
  },
  "language_info": {
   "codemirror_mode": {
    "name": "ipython",
    "version": 2
   },
   "file_extension": ".py",
   "mimetype": "text/x-python",
   "name": "python",
   "nbconvert_exporter": "python",
   "pygments_lexer": "ipython2",
   "version": "2.7.6"
  }
 },
 "nbformat": 4,
 "nbformat_minor": 5
}
