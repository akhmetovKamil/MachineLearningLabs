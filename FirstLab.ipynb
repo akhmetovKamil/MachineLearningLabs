{
 "cells": [
  {
   "cell_type": "markdown",
   "source": [
    "# First Lab"
   ],
   "metadata": {
    "collapsed": false
   },
   "id": "e5cb6201578f1b57"
  },
  {
   "cell_type": "code",
   "execution_count": 1,
   "id": "initial_id",
   "metadata": {
    "collapsed": true,
    "ExecuteTime": {
     "end_time": "2024-03-24T12:28:40.709001Z",
     "start_time": "2024-03-24T12:27:43.985191Z"
    }
   },
   "outputs": [],
   "source": [
    "import os\n",
    "import cv2 as cv\n",
    "import numpy as np\n",
    "import torch\n",
    "import torch.nn as nn\n",
    "import torch.nn.functional as F\n",
    "import torchvision as tv\n",
    "import matplotlib.pyplot as plt\n",
    "from tqdm.notebook import tqdm"
   ]
  },
  {
   "cell_type": "markdown",
   "source": [
    "### Creating Dataset Class to Model"
   ],
   "metadata": {
    "collapsed": false
   },
   "id": "7611bbd44a8a35b"
  },
  {
   "cell_type": "code",
   "outputs": [],
   "source": [
    "class Dataset(torch.utils.data.Dataset):\n",
    "    def __init__(self, dogs_path: str, cats_path: str):\n",
    "        super().__init__()\n",
    "        self.dogs_path = dogs_path\n",
    "        self.cats_path = cats_path\n",
    "        self.dogs_list = sorted(os.listdir(dogs_path))\n",
    "        self.cats_list = sorted(os.listdir(cats_path))\n",
    "        self.dogs_len = len(self.dogs_list)\n",
    "        \n",
    "    def __len__(self):\n",
    "        return len(self.dogs_list) + len(self.cats_list)\n",
    "    \n",
    "    def getImageIndex(self, index) -> (str, int):\n",
    "        if index < self.dogs_len:\n",
    "            return os.path.join(self.dogs_path, self.dogs_list[index]), 0\n",
    "        return os.path.join(self.cats_path, self.cats_list[index - self.dogs_len]), 1\n",
    "    \n",
    "    def __getitem__(self, index):\n",
    "        id_class = None\n",
    "        img = None\n",
    "        sub_index = 0\n",
    "        while img == None:\n",
    "            path, id_class = self.getImageIndex(index + sub_index)\n",
    "            sub_index+=1\n",
    "            img = cv.imread(path, cv.IMREAD_COLOR)\n",
    "            \n",
    "            if img is not None:\n",
    "                break\n",
    "        img = cv.cvtColor(img, cv.COLOR_BGR2RGB)\n",
    "        img = img.astype(np.float32)\n",
    "        img = img/255.0\n",
    "        img = cv.resize(img, (128, 128), interpolation=cv.INTER_AREA)\n",
    "        img = img.transpose((2, 0, 1))\n",
    "        t_img = torch.from_numpy(img)\n",
    "        t_id = torch.tensor(id_class)\n",
    "        \n",
    "        return {'img': t_img, 'label': t_id}"
   ],
   "metadata": {
    "collapsed": false,
    "ExecuteTime": {
     "end_time": "2024-03-24T12:28:40.801217Z",
     "start_time": "2024-03-24T12:28:40.729405Z"
    }
   },
   "id": "b7d7e176d93fc296",
   "execution_count": 2
  },
  {
   "cell_type": "code",
   "outputs": [
    {
     "ename": "FileNotFoundError",
     "evalue": "[Errno 2] No such file or directory: './Dataset/PetImages/Dog'",
     "output_type": "error",
     "traceback": [
      "\u001B[0;31m---------------------------------------------------------------------------\u001B[0m",
      "\u001B[0;31mFileNotFoundError\u001B[0m                         Traceback (most recent call last)",
      "Cell \u001B[0;32mIn[3], line 3\u001B[0m\n\u001B[1;32m      1\u001B[0m dogs_path \u001B[38;5;241m=\u001B[39m \u001B[38;5;124m'\u001B[39m\u001B[38;5;124m./Dataset/PetImages/Dog\u001B[39m\u001B[38;5;124m'\u001B[39m\n\u001B[1;32m      2\u001B[0m cats_path \u001B[38;5;241m=\u001B[39m \u001B[38;5;124m'\u001B[39m\u001B[38;5;124m./Dataset/PetImages/Cat\u001B[39m\u001B[38;5;124m'\u001B[39m\n\u001B[0;32m----> 3\u001B[0m train_dataset \u001B[38;5;241m=\u001B[39m \u001B[43mDataset\u001B[49m\u001B[43m(\u001B[49m\u001B[43mdogs_path\u001B[49m\u001B[43m,\u001B[49m\u001B[43mcats_path\u001B[49m\u001B[43m)\u001B[49m\n",
      "Cell \u001B[0;32mIn[2], line 6\u001B[0m, in \u001B[0;36mDataset.__init__\u001B[0;34m(self, dogs_path, cats_path)\u001B[0m\n\u001B[1;32m      4\u001B[0m \u001B[38;5;28mself\u001B[39m\u001B[38;5;241m.\u001B[39mdogs_path \u001B[38;5;241m=\u001B[39m dogs_path\n\u001B[1;32m      5\u001B[0m \u001B[38;5;28mself\u001B[39m\u001B[38;5;241m.\u001B[39mcats_path \u001B[38;5;241m=\u001B[39m cats_path\n\u001B[0;32m----> 6\u001B[0m \u001B[38;5;28mself\u001B[39m\u001B[38;5;241m.\u001B[39mdogs_list \u001B[38;5;241m=\u001B[39m \u001B[38;5;28msorted\u001B[39m(\u001B[43mos\u001B[49m\u001B[38;5;241;43m.\u001B[39;49m\u001B[43mlistdir\u001B[49m\u001B[43m(\u001B[49m\u001B[43mdogs_path\u001B[49m\u001B[43m)\u001B[49m)\n\u001B[1;32m      7\u001B[0m \u001B[38;5;28mself\u001B[39m\u001B[38;5;241m.\u001B[39mcats_list \u001B[38;5;241m=\u001B[39m \u001B[38;5;28msorted\u001B[39m(os\u001B[38;5;241m.\u001B[39mlistdir(cats_path))\n\u001B[1;32m      8\u001B[0m \u001B[38;5;28mself\u001B[39m\u001B[38;5;241m.\u001B[39mdogs_len \u001B[38;5;241m=\u001B[39m \u001B[38;5;28mlen\u001B[39m(\u001B[38;5;28mself\u001B[39m\u001B[38;5;241m.\u001B[39mdogs_list)\n",
      "\u001B[0;31mFileNotFoundError\u001B[0m: [Errno 2] No such file or directory: './Dataset/PetImages/Dog'"
     ]
    }
   ],
   "source": [
    "dogs_path = './Dataset/PetImages/Dog'\n",
    "cats_path = './Dataset/PetImages/Cat'\n",
    "train_dataset = Dataset(dogs_path,cats_path)"
   ],
   "metadata": {
    "collapsed": false,
    "ExecuteTime": {
     "end_time": "2024-03-24T12:28:41.548241Z",
     "start_time": "2024-03-24T12:28:40.789485Z"
    }
   },
   "id": "e77fba5ccf7e2047",
   "execution_count": 3
  },
  {
   "cell_type": "markdown",
   "source": [
    "### Creating DataLoaders"
   ],
   "metadata": {
    "collapsed": false
   },
   "id": "61a41457eb99c476"
  },
  {
   "cell_type": "code",
   "outputs": [
    {
     "ename": "NameError",
     "evalue": "name 'train_dataset' is not defined",
     "output_type": "error",
     "traceback": [
      "\u001B[0;31m---------------------------------------------------------------------------\u001B[0m",
      "\u001B[0;31mNameError\u001B[0m                                 Traceback (most recent call last)",
      "Cell \u001B[0;32mIn[4], line 1\u001B[0m\n\u001B[0;32m----> 1\u001B[0m train_loader \u001B[38;5;241m=\u001B[39m torch\u001B[38;5;241m.\u001B[39mutils\u001B[38;5;241m.\u001B[39mdata\u001B[38;5;241m.\u001B[39mDataLoader(\u001B[43mtrain_dataset\u001B[49m, batch_size\u001B[38;5;241m=\u001B[39m\u001B[38;5;241m64\u001B[39m, shuffle\u001B[38;5;241m=\u001B[39m\u001B[38;5;28;01mTrue\u001B[39;00m,drop_last\u001B[38;5;241m=\u001B[39m\u001B[38;5;28;01mTrue\u001B[39;00m)\n",
      "\u001B[0;31mNameError\u001B[0m: name 'train_dataset' is not defined"
     ]
    }
   ],
   "source": [
    "train_loader = torch.utils.data.DataLoader(train_dataset, batch_size=64, shuffle=True,drop_last=True)"
   ],
   "metadata": {
    "collapsed": false,
    "ExecuteTime": {
     "end_time": "2024-03-24T12:29:15.912104Z",
     "start_time": "2024-03-24T12:29:15.794169Z"
    }
   },
   "id": "9831e02d3216c15e",
   "execution_count": 4
  },
  {
   "cell_type": "code",
   "outputs": [],
   "source": [
    "model = tv.models.resnet34(num_classes=2)"
   ],
   "metadata": {
    "collapsed": false,
    "ExecuteTime": {
     "end_time": "2024-03-24T12:29:17.712152Z",
     "start_time": "2024-03-24T12:29:16.768419Z"
    }
   },
   "id": "86511b558f1e2032",
   "execution_count": 5
  },
  {
   "cell_type": "code",
   "outputs": [],
   "source": [
    "def count_parameters(model):\n",
    "    return sum(p.numel() for p in model.parameters() if p.requires_grad)"
   ],
   "metadata": {
    "collapsed": false,
    "ExecuteTime": {
     "end_time": "2024-03-24T12:29:18.434932Z",
     "start_time": "2024-03-24T12:29:18.386405Z"
    }
   },
   "id": "ea8a95e7e8edbffc",
   "execution_count": 6
  },
  {
   "cell_type": "code",
   "outputs": [],
   "source": [
    "# count_parameters(model)"
   ],
   "metadata": {
    "collapsed": false,
    "ExecuteTime": {
     "end_time": "2024-03-24T12:29:20.418805Z",
     "start_time": "2024-03-24T12:29:20.358920Z"
    }
   },
   "id": "52312b5b43d015a8",
   "execution_count": 7
  },
  {
   "cell_type": "code",
   "outputs": [],
   "source": [
    "# i = 0\n",
    "# for sample in train_loader:\n",
    "#     i+=1\n",
    "#     img = sample['img']\n",
    "#     label = sample['label']\n",
    "#     print(\"i = \", i)\n",
    "#     if i > 5: break"
   ],
   "metadata": {
    "collapsed": false,
    "ExecuteTime": {
     "end_time": "2024-03-24T12:29:21.077749Z",
     "start_time": "2024-03-24T12:29:21.016378Z"
    }
   },
   "id": "d69617e73343d66b",
   "execution_count": 8
  },
  {
   "cell_type": "markdown",
   "source": [
    "### Creating Loss function and Optimizer"
   ],
   "metadata": {
    "collapsed": false
   },
   "id": "78931433e02f719c"
  },
  {
   "cell_type": "code",
   "outputs": [],
   "source": [
    "loss_fn = nn.CrossEntropyLoss()\n",
    "optimizer = torch.optim.Adam(model.parameters(), lr=0.1, betas=(0.9, 0.999))"
   ],
   "metadata": {
    "collapsed": false,
    "ExecuteTime": {
     "end_time": "2024-03-24T12:29:22.342862Z",
     "start_time": "2024-03-24T12:29:22.183211Z"
    }
   },
   "id": "3ecc5d75dde83e69",
   "execution_count": 9
  },
  {
   "cell_type": "code",
   "outputs": [],
   "source": [
    "def accuracy(pred, label):\n",
    "    answer = F.softmax(pred.detach(), dim=1).numpy().argmax(1) == label.numpy().argmax(1) \n",
    "    return answer.mean()"
   ],
   "metadata": {
    "collapsed": false,
    "ExecuteTime": {
     "end_time": "2024-03-24T12:29:22.796742Z",
     "start_time": "2024-03-24T12:29:22.718804Z"
    }
   },
   "id": "1e2c7c808b34454a",
   "execution_count": 10
  },
  {
   "cell_type": "code",
   "outputs": [
    {
     "ename": "NameError",
     "evalue": "name 'train_loader' is not defined",
     "output_type": "error",
     "traceback": [
      "\u001B[0;31m---------------------------------------------------------------------------\u001B[0m",
      "\u001B[0;31mNameError\u001B[0m                                 Traceback (most recent call last)",
      "Cell \u001B[0;32mIn[11], line 6\u001B[0m\n\u001B[1;32m      4\u001B[0m loss_val \u001B[38;5;241m=\u001B[39m \u001B[38;5;241m0\u001B[39m\n\u001B[1;32m      5\u001B[0m acc_val \u001B[38;5;241m=\u001B[39m \u001B[38;5;241m0\u001B[39m\n\u001B[0;32m----> 6\u001B[0m \u001B[38;5;28;01mfor\u001B[39;00m sample \u001B[38;5;129;01min\u001B[39;00m (pbar \u001B[38;5;241m:=\u001B[39m tqdm(\u001B[43mtrain_loader\u001B[49m)):\n\u001B[1;32m      7\u001B[0m     img, label \u001B[38;5;241m=\u001B[39m sample[\u001B[38;5;124m'\u001B[39m\u001B[38;5;124mimg\u001B[39m\u001B[38;5;124m'\u001B[39m], sample[\u001B[38;5;124m'\u001B[39m\u001B[38;5;124mlabel\u001B[39m\u001B[38;5;124m'\u001B[39m]\n\u001B[1;32m      9\u001B[0m     optimizer\u001B[38;5;241m.\u001B[39mzero_grad()\n",
      "\u001B[0;31mNameError\u001B[0m: name 'train_loader' is not defined"
     ]
    }
   ],
   "source": [
    "epochs = 10\n",
    "\n",
    "for epoch in range(epochs):\n",
    "    loss_val = 0\n",
    "    acc_val = 0\n",
    "    for sample in (pbar := tqdm(train_loader)):\n",
    "        img, label = sample['img'], sample['label']\n",
    "\n",
    "        optimizer.zero_grad()\n",
    "        label = F.one_hot(label, 2).float()\n",
    "\n",
    " \n",
    "        pred = model(img)\n",
    "        loss = loss_fn(pred, label)\n",
    "        loss.backward()\n",
    "        \n",
    "\n",
    "        loss_item = loss.item()\n",
    "        loss_val += loss_item\n",
    "\n",
    "        optimizer.step()\n",
    "\n",
    "        acc_current = accuracy(pred, label)\n",
    "        acc_val += acc_current\n",
    "\n",
    "        pbar.set_description(f'loss: {loss_item:.5f}\\taccuracy: {acc_current:.3f}')\n",
    "\n"
   ],
   "metadata": {
    "collapsed": false,
    "ExecuteTime": {
     "end_time": "2024-03-24T12:29:25.167521Z",
     "start_time": "2024-03-24T12:29:24.141258Z"
    }
   },
   "id": "4fcb73ce72c2e64f",
   "execution_count": 11
  }
 ],
 "metadata": {
  "kernelspec": {
   "display_name": "Python 3",
   "language": "python",
   "name": "python3"
  },
  "language_info": {
   "codemirror_mode": {
    "name": "ipython",
    "version": 2
   },
   "file_extension": ".py",
   "mimetype": "text/x-python",
   "name": "python",
   "nbconvert_exporter": "python",
   "pygments_lexer": "ipython2",
   "version": "2.7.6"
  }
 },
 "nbformat": 4,
 "nbformat_minor": 5
}
