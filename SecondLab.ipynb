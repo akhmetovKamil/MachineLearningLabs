{
 "cells": [
  {
   "cell_type": "markdown",
   "source": [
    "# First Lab"
   ],
   "metadata": {
    "collapsed": false
   },
   "id": "fb3a4e016294c436"
  },
  {
   "cell_type": "markdown",
   "source": [
    "### Importing required modules"
   ],
   "metadata": {
    "collapsed": false
   },
   "id": "70e711d7d13bd342"
  },
  {
   "cell_type": "code",
   "execution_count": 23,
   "id": "initial_id",
   "metadata": {
    "collapsed": true,
    "ExecuteTime": {
     "end_time": "2024-02-24T21:37:46.669871Z",
     "start_time": "2024-02-24T21:37:46.637831Z"
    }
   },
   "outputs": [],
   "source": [
    "from sklearn.metrics import accuracy_score\n",
    "import tensorflow as tf\n",
    "import keras\n",
    "import keras.models as M\n",
    "import keras.layers as L\n",
    "import keras.backend as K"
   ]
  },
  {
   "cell_type": "markdown",
   "source": [
    "### Downloading Fashion_MNIST Dataset"
   ],
   "metadata": {
    "collapsed": false
   },
   "id": "85a607bbcd8cff38"
  },
  {
   "cell_type": "code",
   "outputs": [],
   "source": [
    "(x_train, y_train), (x_val, y_val) = tf.keras.datasets.fashion_mnist.load_data()"
   ],
   "metadata": {
    "collapsed": false,
    "ExecuteTime": {
     "end_time": "2024-02-24T21:37:47.500440Z",
     "start_time": "2024-02-24T21:37:46.706554Z"
    }
   },
   "id": "cf8d7710d4bd1a74",
   "execution_count": 24
  },
  {
   "cell_type": "markdown",
   "source": [
    "### Preparing the correct answers in a vector"
   ],
   "metadata": {
    "collapsed": false
   },
   "id": "7b3ebac17fd6c309"
  },
  {
   "cell_type": "code",
   "outputs": [],
   "source": [
    "y_train_oh = keras.utils.to_categorical(y_train, 10)\n",
    "y_val_oh = keras.utils.to_categorical(y_val, 10)"
   ],
   "metadata": {
    "collapsed": false,
    "ExecuteTime": {
     "end_time": "2024-02-24T21:37:47.543165Z",
     "start_time": "2024-02-24T21:37:47.510457Z"
    }
   },
   "id": "ff853679afed161a",
   "execution_count": 25
  },
  {
   "cell_type": "markdown",
   "source": [
    "### Creating a neural network model and layers"
   ],
   "metadata": {
    "collapsed": false
   },
   "id": "5ec2758fe875e71c"
  },
  {
   "cell_type": "code",
   "outputs": [],
   "source": [
    "K.clear_session()\n",
    "model = M.Sequential()\n",
    "model.add(L.Dense(128, input_dim=784, activation='elu'))\n",
    "model.add(L.Dense(128, activation='elu'))\n",
    "model.add(L.Dense(10, activation='softmax'))"
   ],
   "metadata": {
    "collapsed": false,
    "ExecuteTime": {
     "end_time": "2024-02-24T21:37:47.961984Z",
     "start_time": "2024-02-24T21:37:47.550530Z"
    }
   },
   "id": "b826d5269050981e",
   "execution_count": 26
  },
  {
   "cell_type": "code",
   "outputs": [],
   "source": [
    "model.compile(\n",
    "    loss='categorical_crossentropy',\n",
    "    optimizer='adam',\n",
    "    metrics=['accuracy']\n",
    ")"
   ],
   "metadata": {
    "collapsed": false,
    "ExecuteTime": {
     "end_time": "2024-02-24T21:37:48.015090Z",
     "start_time": "2024-02-24T21:37:47.970045Z"
    }
   },
   "id": "ba19fadcb7d52722",
   "execution_count": 27
  },
  {
   "cell_type": "markdown",
   "source": [
    "### Normalizing the input data"
   ],
   "metadata": {
    "collapsed": false
   },
   "id": "8e995fbf87950516"
  },
  {
   "cell_type": "code",
   "outputs": [],
   "source": [
    "x_train_float = x_train.astype(float) / 255 - 0.5\n",
    "x_val_float = x_val.astype(float) / 255 - 0.5"
   ],
   "metadata": {
    "collapsed": false,
    "ExecuteTime": {
     "end_time": "2024-02-24T21:37:48.895759Z",
     "start_time": "2024-02-24T21:37:48.019114Z"
    }
   },
   "id": "df739134d49cdc78",
   "execution_count": 28
  },
  {
   "cell_type": "markdown",
   "source": [
    "### Training the model"
   ],
   "metadata": {
    "collapsed": false
   },
   "id": "12905b4993aa613"
  },
  {
   "cell_type": "code",
   "outputs": [
    {
     "name": "stdout",
     "output_type": "stream",
     "text": [
      "Epoch 1/10\n",
      "938/938 [==============================] - 10s 9ms/step - loss: 0.4982 - accuracy: 0.8186 - val_loss: 0.4435 - val_accuracy: 0.8420\n",
      "Epoch 2/10\n",
      "938/938 [==============================] - 7s 8ms/step - loss: 0.3823 - accuracy: 0.8608 - val_loss: 0.4084 - val_accuracy: 0.8575\n",
      "Epoch 3/10\n",
      "938/938 [==============================] - 8s 9ms/step - loss: 0.3450 - accuracy: 0.8733 - val_loss: 0.3831 - val_accuracy: 0.8616\n",
      "Epoch 4/10\n",
      "938/938 [==============================] - 7s 7ms/step - loss: 0.3193 - accuracy: 0.8818 - val_loss: 0.3611 - val_accuracy: 0.8704\n",
      "Epoch 5/10\n",
      "938/938 [==============================] - 11s 12ms/step - loss: 0.2984 - accuracy: 0.8892 - val_loss: 0.3650 - val_accuracy: 0.8703\n",
      "Epoch 6/10\n",
      "938/938 [==============================] - 9s 10ms/step - loss: 0.2836 - accuracy: 0.8960 - val_loss: 0.3761 - val_accuracy: 0.8699\n",
      "Epoch 7/10\n",
      "938/938 [==============================] - 13s 14ms/step - loss: 0.2692 - accuracy: 0.9002 - val_loss: 0.3499 - val_accuracy: 0.8762\n",
      "Epoch 8/10\n",
      "938/938 [==============================] - 7s 7ms/step - loss: 0.2572 - accuracy: 0.9043 - val_loss: 0.3415 - val_accuracy: 0.8827\n",
      "Epoch 9/10\n",
      "938/938 [==============================] - 7s 7ms/step - loss: 0.2449 - accuracy: 0.9091 - val_loss: 0.3509 - val_accuracy: 0.8772\n",
      "Epoch 10/10\n",
      "938/938 [==============================] - 8s 8ms/step - loss: 0.2362 - accuracy: 0.9117 - val_loss: 0.3372 - val_accuracy: 0.8821\n"
     ]
    },
    {
     "data": {
      "text/plain": "<keras.src.callbacks.History at 0x133afc460>"
     },
     "execution_count": 29,
     "metadata": {},
     "output_type": "execute_result"
    }
   ],
   "source": [
    "model.fit(\n",
    "    x_train_float.reshape(-1, 28*28),\n",
    "    y_train_oh,\n",
    "    batch_size=64,\n",
    "    epochs=10,\n",
    "    validation_data=(x_val_float.reshape(-1, 28*28), y_val_oh)\n",
    ")"
   ],
   "metadata": {
    "collapsed": false,
    "ExecuteTime": {
     "end_time": "2024-02-24T21:39:17.936083Z",
     "start_time": "2024-02-24T21:37:48.894949Z"
    }
   },
   "id": "b37c07799a88e28a",
   "execution_count": 29
  },
  {
   "cell_type": "markdown",
   "source": [
    "##### The accuracy of the resulting model is approximately 91%"
   ],
   "metadata": {
    "collapsed": false
   },
   "id": "ca0372b3b2af354"
  }
 ],
 "metadata": {
  "kernelspec": {
   "display_name": "Python 3",
   "language": "python",
   "name": "python3"
  },
  "language_info": {
   "codemirror_mode": {
    "name": "ipython",
    "version": 2
   },
   "file_extension": ".py",
   "mimetype": "text/x-python",
   "name": "python",
   "nbconvert_exporter": "python",
   "pygments_lexer": "ipython2",
   "version": "2.7.6"
  }
 },
 "nbformat": 4,
 "nbformat_minor": 5
}
